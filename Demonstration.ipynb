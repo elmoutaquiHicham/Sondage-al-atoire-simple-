{
 "cells": [
  {
   "cell_type": "markdown",
   "id": "45e852ef",
   "metadata": {},
   "source": [
    "## Démonstration du module PESR"
   ]
  },
  {
   "cell_type": "code",
   "execution_count": 29,
   "id": "f7a85449",
   "metadata": {},
   "outputs": [],
   "source": [
    "import numpy as np\n",
    "import pandas as pd\n",
    "import scipy.stats as stat\n",
    "import math\n",
    "import random\n",
    "import scipy.special \n",
    "\n",
    "\n",
    "\n",
    "class pesr:\n",
    "    def __init__(self, data,n):\n",
    "        self.data = data\n",
    "        self.n = n\n",
    "\n",
    "    \n",
    "    def ech_poss(self):                        ## fonction qui retourne les echantillons possibles vu le mode de prélévement.\n",
    "        k= scipy.special.binom(len(self.data),self.n).astype(int)\n",
    "        c=1\n",
    "        L = [i for i in range(len(self.data))]\n",
    "        z = random.sample(L, self.n)\n",
    "        R = [set(z)]\n",
    "        while c<k:\n",
    "            z = random.sample(L, self.n)\n",
    "            if set(z) in R:\n",
    "                pass\n",
    "            else:\n",
    "                R.append(set(z))\n",
    "                c+=1\n",
    "        return R\n",
    "    \n",
    "    def samples_as(self):\n",
    "        import pandas as pd\n",
    "        import numpy as np\n",
    "        import scipy.special\n",
    "        k = scipy.special.binom(len(self.data), self.n)\n",
    "        k = k.astype(int)\n",
    "        obj = [[] for i in range(k)]                      ### Création des DataFrames des différents échantillons possibles.\n",
    "        dfs = [pd.DataFrame() for i in range(k)]\n",
    "        for i,x in enumerate(self.ech_poss()):\n",
    "            for y in x:\n",
    "                obj[i].append(self.data[y])\n",
    "                dfs[i] = pd.Series(np.array(obj[i])).to_frame()\n",
    "                c = f\"echantillon {i+1}\"\n",
    "                dfs[i].columns = [c]\n",
    "        horizontal_concat = pd.concat([dfs[i] for i in range(k)], axis=1)\n",
    "        print('Les échantillons possibles à prélever vu le mode de prélevement (probabilités égales sans remise) sont présentés\\n dans le tableau ci-dessous: ')\n",
    "        return horizontal_concat\n",
    "\n",
    "\n",
    "class Sondage:                    ## Définition de la class Sondage\n",
    "    def __init__(self,Column,N,x):\n",
    "        self.Column = Column\n",
    "        self.mean_ = x[self.Column].mean()      ## Moyenne de l'échantillon\n",
    "        self.var_corr = None   ## variance corrigée de l'echantillon\n",
    "        self.n = None          ## Taille de l'echantillion\n",
    "        self.N = N             ## Taille de la population\n",
    "        self.sd_ = None        ## ecart-type corrigé\n",
    "        self.x = x             ## DataFrame\n",
    "        self.dwa = None         ## Incertitude absolue\n",
    "        self.dwr = None\n",
    "        self.n_min = None\n",
    "        self.ckn = None\n",
    "\n",
    "## Définitions des propriétés applicables aux abjets de type Sondage        \n",
    "        \n",
    "    def taux_sondage(self):                                     ## Méthode qui calcule le taux de sondage (f = n/N)\n",
    "        self.n = len(self.x[self.Column])\n",
    "        print('le taux de sondage vaut :',  self.n/self.N)\n",
    "        \n",
    "    def var_cor(self):                                          ## Méthode qui calcule la variance corrigé de l'echantillon(estimateur san bias de la variance corrigée de la population)\n",
    "        self.mean_ = self.x[self.Column].mean()\n",
    "        self.var_corr = sum((self.x[self.Column]-self.mean_)**2)/(len(self.x[self.Column])-1)\n",
    "        print(\"la variance corrigée de l'échantillon vaut: \", self.var_corr )\n",
    "    \n",
    "    def ecart_type_cor(self):                                  ## Méthode qui calcule l'ecart type-corrigé de l'echantillon.\n",
    "        self.mean_ = self.x[self.Column].mean()\n",
    "        self.var_corr = sum((self.x[self.Column]-self.mean_)**2)/(len(self.x[self.Column])-1)\n",
    "        print(\"L'ecart-type corrigé de l'échantillon vaut: \", self.var_corr**(1/2))\n",
    "        \n",
    "    def IC(self,niveau):                                      ## Méthode qui calcule l'intervalle de confiance de la moyenne de la population à un niveau donné.\n",
    "        z = stat.norm.ppf(niveau, loc=0, scale=1)\n",
    "        a = self.mean_ - (z*np.sqrt((1-(self.n/self.N))*(sum((self.x[self.Column]-self.mean_)**2)/(len(self.x[self.Column])-1)/(self.n))))\n",
    "        b = self.mean_ + (z*np.sqrt(((1-(self.n/self.N))*(sum((self.x[self.Column]-self.mean_)**2)/(len(self.x[self.Column])-1)/(self.n)))))\n",
    "        self.IC_ = [a,b]\n",
    "        print(self.IC_) \n",
    "        \n",
    "    def incertitude_absolue(self, niveau):                    ## méthode qui calcule l'incertitude absolue.\n",
    "        z = stat.norm.ppf(niveau, loc=0, scale=1)\n",
    "        dwa = z*np.sqrt((1-(self.n/self.N))*(sum((self.x[self.Column]-self.mean_)**2)/(len(self.x[self.Column])-1)/(self.n)))\n",
    "        print(\"L'incertitude absolue vaut : \", dwa)\n",
    "        \n",
    "        \n",
    "    def incertitude_relative(self,niveau):                  ## Méthode qui calcule l'incertitude relative.\n",
    "        z = stat.norm.ppf(niveau, loc=0, scale=1)\n",
    "        dw = z*np.sqrt((1-(self.n/self.N))*(sum((self.x[self.Column]-self.mean_)**2)/(len(self.x[self.Column])-1)/(self.n)))\n",
    "        dwr = dw/self.mean_\n",
    "        print(\"L'incertitude relative vaut : \", dwr)\n",
    "        \n",
    "    def minimum_n(self, niveau,d0):                         ## Le plus petit entier tel que l'incertitude absolue est inférieure à un certain nombre determiné par le statisticien.\n",
    "        z = stat.norm.ppf(niveau, loc=0, scale=1)\n",
    "        s_carr= sum((self.x[self.Column]-self.mean_)**2)/(len(self.x[self.Column])-1)\n",
    "        n_min = ((self.N)*(z**2)*(s_carr**2))/((self.N)*(d0**2)+ (z**2)*(s_carr**2))\n",
    "        print(\"Le plus petit entier tel que l'incertitude absolue est inférieure à \", d0, \" est égal à :\", n_min )\n",
    "        \n",
    "    def comb_possible(self):                               ## Méthode qui calcule le nombre d'échantillons possibles.\n",
    "        ckn = math.factorial(self.N)/(math.factorial(self.n)*math.factorial(self.N-len(self.x[self.Column])))\n",
    "        print(\"Le nombre d'échantillons possibles vu le mode de prélévement (PESR) est :\", ckn)\n",
    "        "
   ]
  },
  {
   "cell_type": "markdown",
   "id": "03889e05",
   "metadata": {},
   "source": [
    "## On veut prélever des échantillons de la population ci_dessous."
   ]
  },
  {
   "cell_type": "code",
   "execution_count": 30,
   "id": "0d8c00a6",
   "metadata": {},
   "outputs": [],
   "source": [
    "population_data = [5,6,4,7,3,4,5,3,6,7,8,5,4,3,5,9,6,6,4] ## liste des données du caractère quantitatif 'y' dans la population."
   ]
  },
  {
   "cell_type": "code",
   "execution_count": 31,
   "id": "7e23de83",
   "metadata": {},
   "outputs": [],
   "source": [
    "objet = pesr(population_data, n=4 ) ## initialisation de l'objet (n représente la taille de l'echantillon)"
   ]
  },
  {
   "cell_type": "code",
   "execution_count": 32,
   "id": "a52a12a4",
   "metadata": {},
   "outputs": [
    {
     "name": "stdout",
     "output_type": "stream",
     "text": [
      "Les échantillons possibles à prélever vu le mode de prélevement (probabilités égales sans remise) sont présentés\n",
      " dans le tableau ci-dessous: \n"
     ]
    }
   ],
   "source": [
    "df = objet.samples_as() ## L'élaboration de la DataFrame contenant tout les échantillons possibles à prélever vu le mode de prélevement (probabilité égales sans remise)"
   ]
  },
  {
   "cell_type": "code",
   "execution_count": 33,
   "id": "9a8f8ff4",
   "metadata": {},
   "outputs": [
    {
     "data": {
      "text/html": [
       "<div>\n",
       "<style scoped>\n",
       "    .dataframe tbody tr th:only-of-type {\n",
       "        vertical-align: middle;\n",
       "    }\n",
       "\n",
       "    .dataframe tbody tr th {\n",
       "        vertical-align: top;\n",
       "    }\n",
       "\n",
       "    .dataframe thead th {\n",
       "        text-align: right;\n",
       "    }\n",
       "</style>\n",
       "<table border=\"1\" class=\"dataframe\">\n",
       "  <thead>\n",
       "    <tr style=\"text-align: right;\">\n",
       "      <th></th>\n",
       "      <th>echantillon 1</th>\n",
       "      <th>echantillon 2</th>\n",
       "      <th>echantillon 3</th>\n",
       "      <th>echantillon 4</th>\n",
       "      <th>echantillon 5</th>\n",
       "      <th>echantillon 6</th>\n",
       "      <th>echantillon 7</th>\n",
       "      <th>echantillon 8</th>\n",
       "      <th>echantillon 9</th>\n",
       "      <th>echantillon 10</th>\n",
       "      <th>...</th>\n",
       "      <th>echantillon 3867</th>\n",
       "      <th>echantillon 3868</th>\n",
       "      <th>echantillon 3869</th>\n",
       "      <th>echantillon 3870</th>\n",
       "      <th>echantillon 3871</th>\n",
       "      <th>echantillon 3872</th>\n",
       "      <th>echantillon 3873</th>\n",
       "      <th>echantillon 3874</th>\n",
       "      <th>echantillon 3875</th>\n",
       "      <th>echantillon 3876</th>\n",
       "    </tr>\n",
       "  </thead>\n",
       "  <tbody>\n",
       "    <tr>\n",
       "      <th>0</th>\n",
       "      <td>6</td>\n",
       "      <td>7</td>\n",
       "      <td>6</td>\n",
       "      <td>5</td>\n",
       "      <td>4</td>\n",
       "      <td>4</td>\n",
       "      <td>6</td>\n",
       "      <td>5</td>\n",
       "      <td>5</td>\n",
       "      <td>5</td>\n",
       "      <td>...</td>\n",
       "      <td>4</td>\n",
       "      <td>4</td>\n",
       "      <td>6</td>\n",
       "      <td>6</td>\n",
       "      <td>6</td>\n",
       "      <td>6</td>\n",
       "      <td>7</td>\n",
       "      <td>6</td>\n",
       "      <td>6</td>\n",
       "      <td>6</td>\n",
       "    </tr>\n",
       "    <tr>\n",
       "      <th>1</th>\n",
       "      <td>6</td>\n",
       "      <td>4</td>\n",
       "      <td>3</td>\n",
       "      <td>7</td>\n",
       "      <td>3</td>\n",
       "      <td>4</td>\n",
       "      <td>4</td>\n",
       "      <td>4</td>\n",
       "      <td>7</td>\n",
       "      <td>7</td>\n",
       "      <td>...</td>\n",
       "      <td>3</td>\n",
       "      <td>7</td>\n",
       "      <td>3</td>\n",
       "      <td>5</td>\n",
       "      <td>6</td>\n",
       "      <td>4</td>\n",
       "      <td>8</td>\n",
       "      <td>6</td>\n",
       "      <td>5</td>\n",
       "      <td>4</td>\n",
       "    </tr>\n",
       "    <tr>\n",
       "      <th>2</th>\n",
       "      <td>4</td>\n",
       "      <td>4</td>\n",
       "      <td>5</td>\n",
       "      <td>5</td>\n",
       "      <td>5</td>\n",
       "      <td>4</td>\n",
       "      <td>8</td>\n",
       "      <td>3</td>\n",
       "      <td>4</td>\n",
       "      <td>3</td>\n",
       "      <td>...</td>\n",
       "      <td>5</td>\n",
       "      <td>3</td>\n",
       "      <td>3</td>\n",
       "      <td>3</td>\n",
       "      <td>4</td>\n",
       "      <td>5</td>\n",
       "      <td>5</td>\n",
       "      <td>4</td>\n",
       "      <td>3</td>\n",
       "      <td>3</td>\n",
       "    </tr>\n",
       "    <tr>\n",
       "      <th>3</th>\n",
       "      <td>3</td>\n",
       "      <td>3</td>\n",
       "      <td>3</td>\n",
       "      <td>3</td>\n",
       "      <td>9</td>\n",
       "      <td>3</td>\n",
       "      <td>7</td>\n",
       "      <td>5</td>\n",
       "      <td>4</td>\n",
       "      <td>5</td>\n",
       "      <td>...</td>\n",
       "      <td>9</td>\n",
       "      <td>4</td>\n",
       "      <td>9</td>\n",
       "      <td>9</td>\n",
       "      <td>6</td>\n",
       "      <td>3</td>\n",
       "      <td>3</td>\n",
       "      <td>5</td>\n",
       "      <td>9</td>\n",
       "      <td>9</td>\n",
       "    </tr>\n",
       "  </tbody>\n",
       "</table>\n",
       "<p>4 rows × 3876 columns</p>\n",
       "</div>"
      ],
      "text/plain": [
       "   echantillon 1  echantillon 2  echantillon 3  echantillon 4  echantillon 5  \\\n",
       "0              6              7              6              5              4   \n",
       "1              6              4              3              7              3   \n",
       "2              4              4              5              5              5   \n",
       "3              3              3              3              3              9   \n",
       "\n",
       "   echantillon 6  echantillon 7  echantillon 8  echantillon 9  echantillon 10  \\\n",
       "0              4              6              5              5               5   \n",
       "1              4              4              4              7               7   \n",
       "2              4              8              3              4               3   \n",
       "3              3              7              5              4               5   \n",
       "\n",
       "   ...  echantillon 3867  echantillon 3868  echantillon 3869  \\\n",
       "0  ...                 4                 4                 6   \n",
       "1  ...                 3                 7                 3   \n",
       "2  ...                 5                 3                 3   \n",
       "3  ...                 9                 4                 9   \n",
       "\n",
       "   echantillon 3870  echantillon 3871  echantillon 3872  echantillon 3873  \\\n",
       "0                 6                 6                 6                 7   \n",
       "1                 5                 6                 4                 8   \n",
       "2                 3                 4                 5                 5   \n",
       "3                 9                 6                 3                 3   \n",
       "\n",
       "   echantillon 3874  echantillon 3875  echantillon 3876  \n",
       "0                 6                 6                 6  \n",
       "1                 6                 5                 4  \n",
       "2                 4                 3                 3  \n",
       "3                 5                 9                 9  \n",
       "\n",
       "[4 rows x 3876 columns]"
      ]
     },
     "execution_count": 33,
     "metadata": {},
     "output_type": "execute_result"
    }
   ],
   "source": [
    "df"
   ]
  },
  {
   "cell_type": "markdown",
   "id": "7ef79f43",
   "metadata": {},
   "source": [
    "3876 échantillons possibles "
   ]
  },
  {
   "cell_type": "markdown",
   "id": "0005d1aa",
   "metadata": {},
   "source": [
    "## Maintenant qu'on a eu nos échantillons, on veut estimer les paramétres de la population à savoir (la moyenne du caractère, la variance et l'cart type corrigée, les intervalles de confiances, l'incertitude absolue et relative)."
   ]
  },
  {
   "cell_type": "markdown",
   "id": "69cef30d",
   "metadata": {},
   "source": [
    "### Initialisons un autre objet qui prend comme arguments,l'echantillon qui nous interesse, la taille de la population, et la DataFrame obtenu ci-dessus."
   ]
  },
  {
   "cell_type": "code",
   "execution_count": 34,
   "id": "c00fcd80",
   "metadata": {},
   "outputs": [],
   "source": [
    "objet1 = Sondage('echantillon 1', len(population_data), df)"
   ]
  },
  {
   "cell_type": "markdown",
   "id": "e85736b2",
   "metadata": {},
   "source": [
    "## La formule du taux de sondage:\n",
    "\\begin{equation}\n",
    "f = n/N \n",
    "\\end{equation}"
   ]
  },
  {
   "cell_type": "code",
   "execution_count": 35,
   "id": "7049ac90",
   "metadata": {},
   "outputs": [
    {
     "name": "stdout",
     "output_type": "stream",
     "text": [
      "le taux de sondage vaut : 0.21052631578947367\n"
     ]
    }
   ],
   "source": [
    "objet1.taux_sondage()  ## pour calculer le taux de sondage pour les echantillons en question il suffit\n",
    "                       #d'appliquer la méthode taux_sondage() sur l'objet initialisé."
   ]
  },
  {
   "cell_type": "markdown",
   "id": "1c89fee9",
   "metadata": {},
   "source": [
    "## La variance corrigé etant : $$ 1/(N-1)\\sum\\limits_{j=1}^{N}(y_{j}-y_{mo})^2$$"
   ]
  },
  {
   "cell_type": "code",
   "execution_count": 36,
   "id": "36ecbd4a",
   "metadata": {},
   "outputs": [
    {
     "name": "stdout",
     "output_type": "stream",
     "text": [
      "la variance corrigée de l'échantillon vaut:  2.25\n"
     ]
    }
   ],
   "source": [
    "objet1.var_cor()          ## L'estimation de la variance corrigée associé au premier echantillon."
   ]
  },
  {
   "cell_type": "markdown",
   "id": "6b6556e9",
   "metadata": {},
   "source": [
    "## Ecart-type corrigé"
   ]
  },
  {
   "cell_type": "code",
   "execution_count": 37,
   "id": "5f938cdd",
   "metadata": {},
   "outputs": [
    {
     "name": "stdout",
     "output_type": "stream",
     "text": [
      "L'ecart-type corrigé de l'échantillon vaut:  1.5\n"
     ]
    }
   ],
   "source": [
    "objet1.ecart_type_cor()   ## L'estimation de l'ecart-type corrigé "
   ]
  },
  {
   "cell_type": "markdown",
   "id": "0b4cee62",
   "metadata": {},
   "source": [
    "## L'intervalle de confiance de la moyenne au niveau 1- alpha"
   ]
  },
  {
   "cell_type": "markdown",
   "id": "606ce002",
   "metadata": {},
   "source": [
    "$$ var(y_{w_mo}) = (1-f)s^2/n $$ **<i>s etant l'ecart-type de la population.<i>**"
   ]
  },
  {
   "cell_type": "markdown",
   "id": "c5aad315",
   "metadata": {},
   "source": [
    "On estime le s de la population par celui de l'echantillon puisque le sw est un estimateur sans biasé de s (E(sw) = su)"
   ]
  },
  {
   "attachments": {
    "image.png": {
     "image/png": "[encoded data removed]"
    }
   },
   "cell_type": "markdown",
   "id": "d0f2a6cf",
   "metadata": {},
   "source": [
    "![image.png](attachment:image.png)"
   ]
  },
  {
   "cell_type": "code",
   "execution_count": 38,
   "id": "5cbe8dbd",
   "metadata": {},
   "outputs": [
    {
     "name": "stdout",
     "output_type": "stream",
     "text": [
      "[3.653881899996988, 5.846118100003012]\n"
     ]
    }
   ],
   "source": [
    "objet1.IC(niveau = 0.95)             ## commande qui donne l'intervalle de confiance de la moyenne au niveau désiré."
   ]
  },
  {
   "cell_type": "markdown",
   "id": "2a4a1b38",
   "metadata": {},
   "source": [
    "## Incertitude absolue\n",
    "f est le taux de sondage.\n",
    "\n",
    "$z_{alpha}$ est le quantile d'ordre 1- alpha/2 de la loi normale.\n",
    "\n",
    "$s_{w}$ est l'estimateur sans bias de l'ecart-type corrigé.\n",
    "\n",
    "n est la taille de l'echantillon"
   ]
  },
  {
   "attachments": {
    "image.png": {
     "image/png": "[encoded data removed]"
    }
   },
   "cell_type": "markdown",
   "id": "240381bb",
   "metadata": {},
   "source": [
    "![image.png](attachment:image.png)"
   ]
  },
  {
   "cell_type": "code",
   "execution_count": 39,
   "id": "e832b332",
   "metadata": {},
   "outputs": [
    {
     "name": "stdout",
     "output_type": "stream",
     "text": [
      "L'incertitude absolue vaut :  1.096118100003012\n"
     ]
    }
   ],
   "source": [
    "objet1.incertitude_absolue(niveau = 0.95)"
   ]
  },
  {
   "cell_type": "markdown",
   "id": "62ba9046",
   "metadata": {},
   "source": [
    "## Incertitude relative "
   ]
  },
  {
   "attachments": {
    "image.png": {
     "image/png": "[encoded data removed]"
    }
   },
   "cell_type": "markdown",
   "id": "069b790c",
   "metadata": {},
   "source": [
    "![image.png](attachment:image.png)"
   ]
  },
  {
   "cell_type": "code",
   "execution_count": 40,
   "id": "2fd1cffd",
   "metadata": {},
   "outputs": [
    {
     "name": "stdout",
     "output_type": "stream",
     "text": [
      "L'incertitude relative vaut :  0.230761705263792\n"
     ]
    }
   ],
   "source": [
    "objet1.incertitude_relative(niveau = 0.95)"
   ]
  },
  {
   "attachments": {
    "image.png": {
     "image/png": "[encoded data removed]"
    }
   },
   "cell_type": "markdown",
   "id": "177154bb",
   "metadata": {},
   "source": [
    "## Soit ω un échantillon prélevé lors d’une étude préliminaire. La taille d’échantillon n à choisir\n",
    "pour avoir :\n",
    "◦ une incertitude absolue sur yU au niveau 100(1 − α)%, α ∈]0, 1[,\n",
    "![image.png](attachment:image.png)"
   ]
  },
  {
   "cell_type": "code",
   "execution_count": 41,
   "id": "58de18bf",
   "metadata": {},
   "outputs": [
    {
     "name": "stdout",
     "output_type": "stream",
     "text": [
      "Le plus petit entier tel que l'incertitude absolue est inférieure à  1  est égal à : 7.95916883795386\n"
     ]
    }
   ],
   "source": [
    "objet1.minimum_n(niveau = 0.95, d0=1)"
   ]
  }
 ],
 "metadata": {
  "kernelspec": {
   "display_name": "Python 3 (ipykernel)",
   "language": "python",
   "name": "python3"
  },
  "language_info": {
   "codemirror_mode": {
    "name": "ipython",
    "version": 3
   },
   "file_extension": ".py",
   "mimetype": "text/x-python",
   "name": "python",
   "nbconvert_exporter": "python",
   "pygments_lexer": "ipython3",
   "version": "3.9.7"
  }
 },
 "nbformat": 4,
 "nbformat_minor": 5
}
