{
 "cells": [
  {
   "cell_type": "markdown",
   "id": "5339dd30",
   "metadata": {},
   "source": [
    "## Simulation du sondage aléatoire simple avec le module PESR."
   ]
  },
  {
   "cell_type": "code",
   "execution_count": 12,
   "id": "e723b8a2",
   "metadata": {},
   "outputs": [],
   "source": [
    "import PESR ## (PESR (probabilités égales sans remise))"
   ]
  },
  {
   "cell_type": "code",
   "execution_count": 13,
   "id": "86338950",
   "metadata": {},
   "outputs": [],
   "source": [
    "L = [5,3,2,3,4,5,6,3,2,1,4,6,5,3] ## Population Data\n",
    "N = len(L)"
   ]
  },
  {
   "cell_type": "code",
   "execution_count": 14,
   "id": "4db6ae68",
   "metadata": {},
   "outputs": [],
   "source": [
    "objet = PESR.pesr(L,n=5) ## initialisation de l'objet."
   ]
  },
  {
   "cell_type": "code",
   "execution_count": 15,
   "id": "ecb6a60e",
   "metadata": {},
   "outputs": [
    {
     "name": "stdout",
     "output_type": "stream",
     "text": [
      "Les échantillons possibles à prélever vu le mode de prélevement (probabilités égales sans remise) sont présentés\n",
      " dans le tableau ci-dessous: \n"
     ]
    }
   ],
   "source": [
    "echantillons = objet.samples_as()    ## samples_as() est une méthode qui s'applique sur l'objet initialisé qui a pour objectif \n",
    "                                    ## de donner tout les échantillons possibles à prélever avec ce mode de prélevement."
   ]
  },
  {
   "cell_type": "code",
   "execution_count": 16,
   "id": "1087ccf0",
   "metadata": {},
   "outputs": [
    {
     "data": {
      "text/html": [
       "<div>\n",
       "<style scoped>\n",
       "    .dataframe tbody tr th:only-of-type {\n",
       "        vertical-align: middle;\n",
       "    }\n",
       "\n",
       "    .dataframe tbody tr th {\n",
       "        vertical-align: top;\n",
       "    }\n",
       "\n",
       "    .dataframe thead th {\n",
       "        text-align: right;\n",
       "    }\n",
       "</style>\n",
       "<table border=\"1\" class=\"dataframe\">\n",
       "  <thead>\n",
       "    <tr style=\"text-align: right;\">\n",
       "      <th></th>\n",
       "      <th>echantillion 1</th>\n",
       "      <th>echantillion 2</th>\n",
       "      <th>echantillion 3</th>\n",
       "      <th>echantillion 4</th>\n",
       "      <th>echantillion 5</th>\n",
       "      <th>echantillion 6</th>\n",
       "      <th>echantillion 7</th>\n",
       "      <th>echantillion 8</th>\n",
       "      <th>echantillion 9</th>\n",
       "      <th>echantillion 10</th>\n",
       "      <th>...</th>\n",
       "      <th>echantillion 1993</th>\n",
       "      <th>echantillion 1994</th>\n",
       "      <th>echantillion 1995</th>\n",
       "      <th>echantillion 1996</th>\n",
       "      <th>echantillion 1997</th>\n",
       "      <th>echantillion 1998</th>\n",
       "      <th>echantillion 1999</th>\n",
       "      <th>echantillion 2000</th>\n",
       "      <th>echantillion 2001</th>\n",
       "      <th>echantillion 2002</th>\n",
       "    </tr>\n",
       "  </thead>\n",
       "  <tbody>\n",
       "    <tr>\n",
       "      <th>0</th>\n",
       "      <td>2</td>\n",
       "      <td>2</td>\n",
       "      <td>5</td>\n",
       "      <td>4</td>\n",
       "      <td>3</td>\n",
       "      <td>3</td>\n",
       "      <td>3</td>\n",
       "      <td>2</td>\n",
       "      <td>3</td>\n",
       "      <td>5</td>\n",
       "      <td>...</td>\n",
       "      <td>3</td>\n",
       "      <td>5</td>\n",
       "      <td>5</td>\n",
       "      <td>3</td>\n",
       "      <td>5</td>\n",
       "      <td>5</td>\n",
       "      <td>2</td>\n",
       "      <td>5</td>\n",
       "      <td>5</td>\n",
       "      <td>2</td>\n",
       "    </tr>\n",
       "    <tr>\n",
       "      <th>1</th>\n",
       "      <td>6</td>\n",
       "      <td>4</td>\n",
       "      <td>5</td>\n",
       "      <td>5</td>\n",
       "      <td>3</td>\n",
       "      <td>4</td>\n",
       "      <td>3</td>\n",
       "      <td>3</td>\n",
       "      <td>5</td>\n",
       "      <td>5</td>\n",
       "      <td>...</td>\n",
       "      <td>5</td>\n",
       "      <td>3</td>\n",
       "      <td>2</td>\n",
       "      <td>4</td>\n",
       "      <td>2</td>\n",
       "      <td>3</td>\n",
       "      <td>5</td>\n",
       "      <td>3</td>\n",
       "      <td>5</td>\n",
       "      <td>3</td>\n",
       "    </tr>\n",
       "    <tr>\n",
       "      <th>2</th>\n",
       "      <td>3</td>\n",
       "      <td>6</td>\n",
       "      <td>4</td>\n",
       "      <td>3</td>\n",
       "      <td>5</td>\n",
       "      <td>6</td>\n",
       "      <td>2</td>\n",
       "      <td>3</td>\n",
       "      <td>2</td>\n",
       "      <td>3</td>\n",
       "      <td>...</td>\n",
       "      <td>3</td>\n",
       "      <td>6</td>\n",
       "      <td>5</td>\n",
       "      <td>5</td>\n",
       "      <td>4</td>\n",
       "      <td>2</td>\n",
       "      <td>4</td>\n",
       "      <td>2</td>\n",
       "      <td>6</td>\n",
       "      <td>3</td>\n",
       "    </tr>\n",
       "    <tr>\n",
       "      <th>3</th>\n",
       "      <td>6</td>\n",
       "      <td>4</td>\n",
       "      <td>5</td>\n",
       "      <td>1</td>\n",
       "      <td>2</td>\n",
       "      <td>2</td>\n",
       "      <td>4</td>\n",
       "      <td>6</td>\n",
       "      <td>4</td>\n",
       "      <td>1</td>\n",
       "      <td>...</td>\n",
       "      <td>2</td>\n",
       "      <td>3</td>\n",
       "      <td>4</td>\n",
       "      <td>3</td>\n",
       "      <td>6</td>\n",
       "      <td>1</td>\n",
       "      <td>6</td>\n",
       "      <td>3</td>\n",
       "      <td>2</td>\n",
       "      <td>2</td>\n",
       "    </tr>\n",
       "    <tr>\n",
       "      <th>4</th>\n",
       "      <td>5</td>\n",
       "      <td>6</td>\n",
       "      <td>3</td>\n",
       "      <td>3</td>\n",
       "      <td>3</td>\n",
       "      <td>5</td>\n",
       "      <td>3</td>\n",
       "      <td>5</td>\n",
       "      <td>6</td>\n",
       "      <td>6</td>\n",
       "      <td>...</td>\n",
       "      <td>1</td>\n",
       "      <td>3</td>\n",
       "      <td>5</td>\n",
       "      <td>4</td>\n",
       "      <td>5</td>\n",
       "      <td>5</td>\n",
       "      <td>3</td>\n",
       "      <td>4</td>\n",
       "      <td>1</td>\n",
       "      <td>4</td>\n",
       "    </tr>\n",
       "  </tbody>\n",
       "</table>\n",
       "<p>5 rows × 2002 columns</p>\n",
       "</div>"
      ],
      "text/plain": [
       "   echantillion 1  echantillion 2  echantillion 3  echantillion 4  \\\n",
       "0               2               2               5               4   \n",
       "1               6               4               5               5   \n",
       "2               3               6               4               3   \n",
       "3               6               4               5               1   \n",
       "4               5               6               3               3   \n",
       "\n",
       "   echantillion 5  echantillion 6  echantillion 7  echantillion 8  \\\n",
       "0               3               3               3               2   \n",
       "1               3               4               3               3   \n",
       "2               5               6               2               3   \n",
       "3               2               2               4               6   \n",
       "4               3               5               3               5   \n",
       "\n",
       "   echantillion 9  echantillion 10  ...  echantillion 1993  echantillion 1994  \\\n",
       "0               3                5  ...                  3                  5   \n",
       "1               5                5  ...                  5                  3   \n",
       "2               2                3  ...                  3                  6   \n",
       "3               4                1  ...                  2                  3   \n",
       "4               6                6  ...                  1                  3   \n",
       "\n",
       "   echantillion 1995  echantillion 1996  echantillion 1997  echantillion 1998  \\\n",
       "0                  5                  3                  5                  5   \n",
       "1                  2                  4                  2                  3   \n",
       "2                  5                  5                  4                  2   \n",
       "3                  4                  3                  6                  1   \n",
       "4                  5                  4                  5                  5   \n",
       "\n",
       "   echantillion 1999  echantillion 2000  echantillion 2001  echantillion 2002  \n",
       "0                  2                  5                  5                  2  \n",
       "1                  5                  3                  5                  3  \n",
       "2                  4                  2                  6                  3  \n",
       "3                  6                  3                  2                  2  \n",
       "4                  3                  4                  1                  4  \n",
       "\n",
       "[5 rows x 2002 columns]"
      ]
     },
     "execution_count": 16,
     "metadata": {},
     "output_type": "execute_result"
    }
   ],
   "source": [
    "echantillons"
   ]
  },
  {
   "cell_type": "markdown",
   "id": "4c09e55e",
   "metadata": {},
   "source": [
    "2002 colonnes (2002 echantillons prélevés)"
   ]
  },
  {
   "cell_type": "markdown",
   "id": "23ebb3c6",
   "metadata": {},
   "source": [
    "## Maintenant qu'on a eu nos échantillons, on veut estimer les paramétres de la population à savoir (la moyenne du caractère, la variance et l'cart type corrigée, les intervalles de confiances, l'incertitude absolue et relative)."
   ]
  },
  {
   "cell_type": "markdown",
   "id": "c4922d68",
   "metadata": {},
   "source": [
    "### Initialisons un autre objet qui prend comme arguments,l'echantillon qui nous interesse, la taille de la population, et la DataFrame obtenu ci-dessus."
   ]
  },
  {
   "cell_type": "code",
   "execution_count": 20,
   "id": "582d6b8e",
   "metadata": {},
   "outputs": [],
   "source": [
    "objet1 = PESR.Sondage('echantillion 1', len(L), echantillons)"
   ]
  },
  {
   "cell_type": "code",
   "execution_count": 22,
   "id": "df44e6bf",
   "metadata": {},
   "outputs": [
    {
     "name": "stdout",
     "output_type": "stream",
     "text": [
      "le taux de sondage vaut : 0.35714285714285715\n"
     ]
    }
   ],
   "source": [
    "objet1.taux_sondage()  ## pour calculer le taux de sondage pour les echantillons en question il suffit\n",
    "                       #d'appliquer la méthode taux_sondage() sur l'objet initialisé."
   ]
  },
  {
   "cell_type": "code",
   "execution_count": 23,
   "id": "3f109f90",
   "metadata": {},
   "outputs": [
    {
     "name": "stdout",
     "output_type": "stream",
     "text": [
      "la variance corrigée de l'échantillon vaut:  3.3\n"
     ]
    }
   ],
   "source": [
    "objet1.var_cor()          ## L'estimation de la variance corrigée associé au premier echantillon."
   ]
  },
  {
   "cell_type": "code",
   "execution_count": 24,
   "id": "c965d423",
   "metadata": {},
   "outputs": [
    {
     "name": "stdout",
     "output_type": "stream",
     "text": [
      "L'ecart-type corrigé de l'échantillon vaut:  1.816590212458495\n"
     ]
    }
   ],
   "source": [
    "objet1.ecart_type_cor()   ## L'estimation de l'ecart-type corrigé "
   ]
  },
  {
   "cell_type": "code",
   "execution_count": 25,
   "id": "ad545622",
   "metadata": {},
   "outputs": [
    {
     "name": "stdout",
     "output_type": "stream",
     "text": [
      "[3.32858811050469, 5.471411889495311]\n"
     ]
    }
   ],
   "source": [
    "objet1.IC(niveau = 0.95)             ## commande qui donne l'intervalle de confiance de la moyenne au niveau désiré."
   ]
  },
  {
   "cell_type": "code",
   "execution_count": 26,
   "id": "e6a4740a",
   "metadata": {},
   "outputs": [
    {
     "name": "stdout",
     "output_type": "stream",
     "text": [
      "L'incertitude absolue vaut :  1.0714118894953102\n"
     ]
    }
   ],
   "source": [
    "objet1.incertitude_absolue(niveau = 0.95)"
   ]
  },
  {
   "cell_type": "code",
   "execution_count": 27,
   "id": "ea2be7c5",
   "metadata": {},
   "outputs": [
    {
     "name": "stdout",
     "output_type": "stream",
     "text": [
      "L'incertitude relative vaut :  0.24350270215802503\n"
     ]
    }
   ],
   "source": [
    "objet1.incertitude_relative(niveau = 0.95)"
   ]
  },
  {
   "cell_type": "code",
   "execution_count": 28,
   "id": "07b656b6",
   "metadata": {},
   "outputs": [
    {
     "name": "stdout",
     "output_type": "stream",
     "text": [
      "Le plus petit entier tel que l'incertitude absolue est inférieure à  1  est égal à : 9.49045534092063\n"
     ]
    }
   ],
   "source": [
    "objet1.minimum_n(niveau = 0.95, d0=1)"
   ]
  }
 ],
 "metadata": {
  "kernelspec": {
   "display_name": "Python 3 (ipykernel)",
   "language": "python",
   "name": "python3"
  },
  "language_info": {
   "codemirror_mode": {
    "name": "ipython",
    "version": 3
   },
   "file_extension": ".py",
   "mimetype": "text/x-python",
   "name": "python",
   "nbconvert_exporter": "python",
   "pygments_lexer": "ipython3",
   "version": "3.9.7"
  }
 },
 "nbformat": 4,
 "nbformat_minor": 5
}
